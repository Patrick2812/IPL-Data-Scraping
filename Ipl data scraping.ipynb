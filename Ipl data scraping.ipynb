{
 "cells": [
  {
   "cell_type": "code",
   "execution_count": null,
   "id": "b5b865da",
   "metadata": {},
   "outputs": [],
   "source": [
    "import requests\n",
    "from bs4 import BeautifulSoup\n",
    "import pandas as pd"
   ]
  },
  {
   "cell_type": "code",
   "execution_count": null,
   "id": "cfd85847",
   "metadata": {},
   "outputs": [],
   "source": [
    "base_site = \"https://www.iplt20.com/matches/results/men/2021\""
   ]
  },
  {
   "cell_type": "code",
   "execution_count": null,
   "id": "32e66787",
   "metadata": {},
   "outputs": [],
   "source": [
    "response = requests.get(base_site)\n",
    "response.status_code"
   ]
  },
  {
   "cell_type": "code",
   "execution_count": null,
   "id": "872247cd",
   "metadata": {},
   "outputs": [],
   "source": [
    "html = response.content"
   ]
  },
  {
   "cell_type": "code",
   "execution_count": null,
   "id": "df917392",
   "metadata": {},
   "outputs": [],
   "source": [
    "soup = BeautifulSoup(html,\"lxml\")"
   ]
  },
  {
   "cell_type": "code",
   "execution_count": null,
   "id": "8d4765e9",
   "metadata": {},
   "outputs": [],
   "source": [
    "with open(\"ipl_data_base_page_2021_lxml.html\",\"wb\") as file:\n",
    "    file.write(soup.prettify('utf-8'))"
   ]
  },
  {
   "cell_type": "code",
   "execution_count": null,
   "id": "ab2e97aa",
   "metadata": {},
   "outputs": [],
   "source": [
    "divs = soup.find_all(\"div\",{\"class\":\"result__teams\"})"
   ]
  },
  {
   "cell_type": "code",
   "execution_count": null,
   "id": "5f539da9",
   "metadata": {},
   "outputs": [],
   "source": [
    "p_location = soup.find_all(\"p\",{\"class\":\"result__info u-show-phablet\"})\n",
    "match_loc = []\n",
    "for i in range(len(p_location)):\n",
    "    match_loc.append(p_location[i].text.split(\",\",3)[-2:])"
   ]
  },
  {
   "cell_type": "code",
   "execution_count": null,
   "id": "b163c7ed",
   "metadata": {},
   "outputs": [],
   "source": [
    "spanwin = soup.find_all('span',{\"class\":\"result__score result__score--winner\"})\n",
    "divlos = soup.find_all('div',{\"class\":\"result__team result__team--loser\"})"
   ]
  },
  {
   "cell_type": "code",
   "execution_count": null,
   "id": "bd2711b6",
   "metadata": {},
   "outputs": [],
   "source": [
    "#Extracting only winning team wickets from the page\n",
    "spantext = []\n",
    "winning_team_wickets = []\n",
    "for i in range(len(spanwin)):\n",
    "    spantext.append(spanwin[i].text)    \n",
    "    spantext[i].replace(\"\\n\",\"\")    \n",
    "    winning_team_wickets.append(spantext[i].partition(\"/\")[2][0])"
   ]
  },
  {
   "cell_type": "code",
   "execution_count": null,
   "id": "0c29885e",
   "metadata": {},
   "outputs": [],
   "source": [
    "#Extracting only losing team wickets from the page\n",
    "divtext = []\n",
    "losing_team_wickets = []\n",
    "for i in range(len(divlos)):\n",
    "    divtext.append(divlos[i].text)    \n",
    "    divtext[i].replace(\"\\n\",\"\")    \n",
    "    losing_team_wickets.append(divtext[i].partition(\"/\")[2][0])"
   ]
  },
  {
   "cell_type": "code",
   "execution_count": null,
   "id": "7a5ae12f",
   "metadata": {},
   "outputs": [],
   "source": [
    "#Extracting only winning team overs from the page\n",
    "spantext = []\n",
    "winning_team_overs = []\n",
    "for i in range(len(spanwin)):\n",
    "    spantext.append(spanwin[i].text)    \n",
    "    spantext[i].replace(\"\\n\",\"\")    \n",
    "    winning_team_overs.append(spantext[i].partition(\"/20\")[0][40:])"
   ]
  },
  {
   "cell_type": "code",
   "execution_count": null,
   "id": "a4aece90",
   "metadata": {},
   "outputs": [],
   "source": [
    "#Extracting only losing team overs from the page\n",
    "divtext = []\n",
    "losing_team_overs = []\n",
    "for i in range(len(divlos)):\n",
    "    divtext.append(divlos[i].text)    \n",
    "    divtext[i].replace(\"\\n\",\"\")    \n",
    "    losing_team_overs.append(divtext[i].partition(\"/20\")[0][40:])"
   ]
  },
  {
   "cell_type": "code",
   "execution_count": null,
   "id": "00debeca",
   "metadata": {},
   "outputs": [],
   "source": [
    "#Extracting only winning team scores from the page\n",
    "winning_team_score_tag = []\n",
    "for i in range(len(spanwin)):\n",
    "    winning_team_score_tag.append(spanwin[i].find('strong'))\n",
    "winning_team_score = []\n",
    "for i in winning_team_score_tag:\n",
    "    winning_team_score.append(i.text)"
   ]
  },
  {
   "cell_type": "code",
   "execution_count": null,
   "id": "881a9acf",
   "metadata": {},
   "outputs": [],
   "source": [
    "#Extracting only losing team scores from the page\n",
    "losing_team_score_tag = []\n",
    "for i in range(len(divlos)):\n",
    "    losing_team_score_tag.append(divlos[i].find('strong'))\n",
    "losing_team_score = []\n",
    "for i in losing_team_score_tag:\n",
    "    losing_team_score.append(i.text)"
   ]
  },
  {
   "cell_type": "code",
   "execution_count": null,
   "id": "a4412bac",
   "metadata": {},
   "outputs": [],
   "source": [
    "#Extracting only winning team names from the page\n",
    "winning_team_tags = []\n",
    "for i in range(len(spanwin)):\n",
    "    winning_team_tags.append(spanwin[i].find_previous_sibling('p',{\"class\":\"result__team-name\"}))\n",
    "winning_team_names = []\n",
    "for i in winning_team_tags:\n",
    "    winning_team_names.append(i.text)"
   ]
  },
  {
   "cell_type": "code",
   "execution_count": null,
   "id": "f999d75f",
   "metadata": {},
   "outputs": [],
   "source": [
    "#Extracting only losing team names from the page\n",
    "losing_team_tags = []\n",
    "for i in range(len(divlos)):\n",
    "    losing_team_tags.append(divlos[i].find('p'))\n",
    "losing_team_names = []\n",
    "for i in losing_team_tags:\n",
    "    losing_team_names.append(i.text)"
   ]
  },
  {
   "cell_type": "code",
   "execution_count": null,
   "id": "514f562a",
   "metadata": {},
   "outputs": [],
   "source": [
    "df = pd.DataFrame(list(zip(winning_team_names,losing_team_names,winning_team_score,losing_team_score,winning_team_overs,losing_team_overs,winning_team_wickets,losing_team_wickets,match_loc)),\n",
    "                    columns = [\"Winning Team\",\"Losing Team\",\"Winning Team Score\",\"Losing Team Score\",\"Overs played by winning Team\",\"Overs played by losing Team\",\"Wickets taken by losing Team\",\"Wickets taken by Winning Team\",\"Match Venue\"] )"
   ]
  },
  {
   "cell_type": "code",
   "execution_count": null,
   "id": "4baa9a7a",
   "metadata": {},
   "outputs": [],
   "source": [
    "df[::-1].reset_index(drop=True)"
   ]
  },
  {
   "cell_type": "code",
   "execution_count": null,
   "id": "244747cb",
   "metadata": {},
   "outputs": [],
   "source": []
  },
  {
   "cell_type": "code",
   "execution_count": null,
   "id": "9f9750ac",
   "metadata": {},
   "outputs": [],
   "source": []
  },
  {
   "cell_type": "code",
   "execution_count": null,
   "id": "6f073c55",
   "metadata": {},
   "outputs": [],
   "source": []
  },
  {
   "cell_type": "code",
   "execution_count": null,
   "id": "eaf30af1",
   "metadata": {},
   "outputs": [],
   "source": []
  }
 ],
 "metadata": {
  "kernelspec": {
   "display_name": "Python 3 (ipykernel)",
   "language": "python",
   "name": "python3"
  },
  "language_info": {
   "codemirror_mode": {
    "name": "ipython",
    "version": 3
   },
   "file_extension": ".py",
   "mimetype": "text/x-python",
   "name": "python",
   "nbconvert_exporter": "python",
   "pygments_lexer": "ipython3",
   "version": "3.9.7"
  }
 },
 "nbformat": 4,
 "nbformat_minor": 5
}
